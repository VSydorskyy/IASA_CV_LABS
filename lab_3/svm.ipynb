{
 "cells": [
  {
   "cell_type": "code",
   "execution_count": 1,
   "metadata": {},
   "outputs": [
    {
     "name": "stderr",
     "output_type": "stream",
     "text": [
      "In /home/vsydorskyi/anaconda3/envs/venv/lib/python3.7/site-packages/matplotlib/mpl-data/stylelib/_classic_test.mplstyle: \n",
      "The text.latex.preview rcparam was deprecated in Matplotlib 3.3 and will be removed two minor releases later.\n",
      "In /home/vsydorskyi/anaconda3/envs/venv/lib/python3.7/site-packages/matplotlib/mpl-data/stylelib/_classic_test.mplstyle: \n",
      "The mathtext.fallback_to_cm rcparam was deprecated in Matplotlib 3.3 and will be removed two minor releases later.\n",
      "In /home/vsydorskyi/anaconda3/envs/venv/lib/python3.7/site-packages/matplotlib/mpl-data/stylelib/_classic_test.mplstyle: Support for setting the 'mathtext.fallback_to_cm' rcParam is deprecated since 3.3 and will be removed two minor releases later; use 'mathtext.fallback : 'cm' instead.\n",
      "In /home/vsydorskyi/anaconda3/envs/venv/lib/python3.7/site-packages/matplotlib/mpl-data/stylelib/_classic_test.mplstyle: \n",
      "The validate_bool_maybe_none function was deprecated in Matplotlib 3.3 and will be removed two minor releases later.\n",
      "In /home/vsydorskyi/anaconda3/envs/venv/lib/python3.7/site-packages/matplotlib/mpl-data/stylelib/_classic_test.mplstyle: \n",
      "The savefig.jpeg_quality rcparam was deprecated in Matplotlib 3.3 and will be removed two minor releases later.\n",
      "In /home/vsydorskyi/anaconda3/envs/venv/lib/python3.7/site-packages/matplotlib/mpl-data/stylelib/_classic_test.mplstyle: \n",
      "The keymap.all_axes rcparam was deprecated in Matplotlib 3.3 and will be removed two minor releases later.\n",
      "In /home/vsydorskyi/anaconda3/envs/venv/lib/python3.7/site-packages/matplotlib/mpl-data/stylelib/_classic_test.mplstyle: \n",
      "The animation.avconv_path rcparam was deprecated in Matplotlib 3.3 and will be removed two minor releases later.\n",
      "In /home/vsydorskyi/anaconda3/envs/venv/lib/python3.7/site-packages/matplotlib/mpl-data/stylelib/_classic_test.mplstyle: \n",
      "The animation.avconv_args rcparam was deprecated in Matplotlib 3.3 and will be removed two minor releases later.\n"
     ]
    }
   ],
   "source": [
    "import os\n",
    "import math\n",
    "import random\n",
    "\n",
    "from typing import List, Tuple, Callable, Optional\n",
    "from tqdm import tqdm\n",
    "\n",
    "import pandas as pd\n",
    "import numpy as np\n",
    "import cv2\n",
    "import seaborn as sns\n",
    "\n",
    "from matplotlib import pyplot as plt\n",
    "from sklearn.model_selection import StratifiedShuffleSplit\n",
    "from sklearn.metrics import accuracy_score\n",
    "from sklearn.svm import SVC\n",
    "from sklearn.decomposition import PCA\n",
    "from sklearn.pipeline import Pipeline\n",
    "from sklearn.preprocessing import StandardScaler\n",
    "\n",
    "from sklearn_functions import train_predict\n",
    "\n",
    "%matplotlib inline"
   ]
  },
  {
   "cell_type": "markdown",
   "metadata": {},
   "source": [
    "## Reproducibility"
   ]
  },
  {
   "cell_type": "code",
   "execution_count": 2,
   "metadata": {},
   "outputs": [],
   "source": [
    "RS = 42\n",
    "DEVICE = 'cuda'"
   ]
  },
  {
   "cell_type": "code",
   "execution_count": 3,
   "metadata": {},
   "outputs": [],
   "source": [
    "def seed_everything(seed_value):\n",
    "    random.seed(seed_value)\n",
    "    np.random.seed(seed_value)\n",
    "    os.environ['PYTHONHASHSEED'] = str(seed_value)\n",
    "    \n",
    "\n",
    "seed_everything(RS)"
   ]
  },
  {
   "cell_type": "markdown",
   "metadata": {},
   "source": [
    "## Read data"
   ]
  },
  {
   "cell_type": "code",
   "execution_count": 4,
   "metadata": {},
   "outputs": [
    {
     "data": {
      "text/html": [
       "<div>\n",
       "<style scoped>\n",
       "    .dataframe tbody tr th:only-of-type {\n",
       "        vertical-align: middle;\n",
       "    }\n",
       "\n",
       "    .dataframe tbody tr th {\n",
       "        vertical-align: top;\n",
       "    }\n",
       "\n",
       "    .dataframe thead th {\n",
       "        text-align: right;\n",
       "    }\n",
       "</style>\n",
       "<table border=\"1\" class=\"dataframe\">\n",
       "  <thead>\n",
       "    <tr style=\"text-align: right;\">\n",
       "      <th></th>\n",
       "      <th>oroginal_path</th>\n",
       "      <th>label</th>\n",
       "      <th>basename</th>\n",
       "      <th>violla_default_pathes</th>\n",
       "      <th>violla_mn5_sf3_pathes</th>\n",
       "      <th>violla_mn1_sfdef_pathes</th>\n",
       "      <th>hog_pathes</th>\n",
       "    </tr>\n",
       "  </thead>\n",
       "  <tbody>\n",
       "    <tr>\n",
       "      <th>0</th>\n",
       "      <td>/ssd_data/celebrity_data/dir_001/Angelina Joli...</td>\n",
       "      <td>Angelina Jolie</td>\n",
       "      <td>104.jpg</td>\n",
       "      <td>/ssd_data/celebrity_data/violla/default/Angeli...</td>\n",
       "      <td>NaN</td>\n",
       "      <td>/ssd_data/celebrity_data/violla/mn1_sfdef/Ange...</td>\n",
       "      <td>NaN</td>\n",
       "    </tr>\n",
       "    <tr>\n",
       "      <th>1</th>\n",
       "      <td>/ssd_data/celebrity_data/dir_001/Angelina Joli...</td>\n",
       "      <td>Angelina Jolie</td>\n",
       "      <td>724.jpg</td>\n",
       "      <td>NaN</td>\n",
       "      <td>NaN</td>\n",
       "      <td>NaN</td>\n",
       "      <td>NaN</td>\n",
       "    </tr>\n",
       "    <tr>\n",
       "      <th>2</th>\n",
       "      <td>/ssd_data/celebrity_data/dir_001/Angelina Joli...</td>\n",
       "      <td>Angelina Jolie</td>\n",
       "      <td>219.jpg</td>\n",
       "      <td>NaN</td>\n",
       "      <td>NaN</td>\n",
       "      <td>NaN</td>\n",
       "      <td>NaN</td>\n",
       "    </tr>\n",
       "    <tr>\n",
       "      <th>3</th>\n",
       "      <td>/ssd_data/celebrity_data/dir_001/Angelina Joli...</td>\n",
       "      <td>Angelina Jolie</td>\n",
       "      <td>541.jpg</td>\n",
       "      <td>/ssd_data/celebrity_data/violla/default/Angeli...</td>\n",
       "      <td>NaN</td>\n",
       "      <td>/ssd_data/celebrity_data/violla/mn1_sfdef/Ange...</td>\n",
       "      <td>/ssd_data/celebrity_data/hog/Angelina Jolie/54...</td>\n",
       "    </tr>\n",
       "    <tr>\n",
       "      <th>4</th>\n",
       "      <td>/ssd_data/celebrity_data/dir_001/Angelina Joli...</td>\n",
       "      <td>Angelina Jolie</td>\n",
       "      <td>107.jpg</td>\n",
       "      <td>/ssd_data/celebrity_data/violla/default/Angeli...</td>\n",
       "      <td>NaN</td>\n",
       "      <td>/ssd_data/celebrity_data/violla/mn1_sfdef/Ange...</td>\n",
       "      <td>/ssd_data/celebrity_data/hog/Angelina Jolie/10...</td>\n",
       "    </tr>\n",
       "    <tr>\n",
       "      <th>...</th>\n",
       "      <td>...</td>\n",
       "      <td>...</td>\n",
       "      <td>...</td>\n",
       "      <td>...</td>\n",
       "      <td>...</td>\n",
       "      <td>...</td>\n",
       "      <td>...</td>\n",
       "    </tr>\n",
       "    <tr>\n",
       "      <th>12155</th>\n",
       "      <td>/ssd_data/cifar10/train/5672.png</td>\n",
       "      <td>no_face</td>\n",
       "      <td>5672.png</td>\n",
       "      <td>/ssd_data/celebrity_data/violla/default/cifar/...</td>\n",
       "      <td>/ssd_data/celebrity_data/violla/mn5_sf3/cifar/...</td>\n",
       "      <td>/ssd_data/celebrity_data/violla/mn1_sfdef/cifa...</td>\n",
       "      <td>/ssd_data/celebrity_data/hog/cifar/5672.png</td>\n",
       "    </tr>\n",
       "    <tr>\n",
       "      <th>12156</th>\n",
       "      <td>/ssd_data/cifar10/train/48106.png</td>\n",
       "      <td>no_face</td>\n",
       "      <td>48106.png</td>\n",
       "      <td>/ssd_data/celebrity_data/violla/default/cifar/...</td>\n",
       "      <td>/ssd_data/celebrity_data/violla/mn5_sf3/cifar/...</td>\n",
       "      <td>/ssd_data/celebrity_data/violla/mn1_sfdef/cifa...</td>\n",
       "      <td>/ssd_data/celebrity_data/hog/cifar/48106.png</td>\n",
       "    </tr>\n",
       "    <tr>\n",
       "      <th>12157</th>\n",
       "      <td>/ssd_data/cifar10/train/40719.png</td>\n",
       "      <td>no_face</td>\n",
       "      <td>40719.png</td>\n",
       "      <td>/ssd_data/celebrity_data/violla/default/cifar/...</td>\n",
       "      <td>/ssd_data/celebrity_data/violla/mn5_sf3/cifar/...</td>\n",
       "      <td>/ssd_data/celebrity_data/violla/mn1_sfdef/cifa...</td>\n",
       "      <td>/ssd_data/celebrity_data/hog/cifar/40719.png</td>\n",
       "    </tr>\n",
       "    <tr>\n",
       "      <th>12158</th>\n",
       "      <td>/ssd_data/cifar10/train/32756.png</td>\n",
       "      <td>no_face</td>\n",
       "      <td>32756.png</td>\n",
       "      <td>/ssd_data/celebrity_data/violla/default/cifar/...</td>\n",
       "      <td>/ssd_data/celebrity_data/violla/mn5_sf3/cifar/...</td>\n",
       "      <td>/ssd_data/celebrity_data/violla/mn1_sfdef/cifa...</td>\n",
       "      <td>/ssd_data/celebrity_data/hog/cifar/32756.png</td>\n",
       "    </tr>\n",
       "    <tr>\n",
       "      <th>12159</th>\n",
       "      <td>/ssd_data/cifar10/train/28988.png</td>\n",
       "      <td>no_face</td>\n",
       "      <td>28988.png</td>\n",
       "      <td>/ssd_data/celebrity_data/violla/default/cifar/...</td>\n",
       "      <td>/ssd_data/celebrity_data/violla/mn5_sf3/cifar/...</td>\n",
       "      <td>/ssd_data/celebrity_data/violla/mn1_sfdef/cifa...</td>\n",
       "      <td>/ssd_data/celebrity_data/hog/cifar/28988.png</td>\n",
       "    </tr>\n",
       "  </tbody>\n",
       "</table>\n",
       "<p>12160 rows × 7 columns</p>\n",
       "</div>"
      ],
      "text/plain": [
       "                                           oroginal_path           label  \\\n",
       "0      /ssd_data/celebrity_data/dir_001/Angelina Joli...  Angelina Jolie   \n",
       "1      /ssd_data/celebrity_data/dir_001/Angelina Joli...  Angelina Jolie   \n",
       "2      /ssd_data/celebrity_data/dir_001/Angelina Joli...  Angelina Jolie   \n",
       "3      /ssd_data/celebrity_data/dir_001/Angelina Joli...  Angelina Jolie   \n",
       "4      /ssd_data/celebrity_data/dir_001/Angelina Joli...  Angelina Jolie   \n",
       "...                                                  ...             ...   \n",
       "12155                   /ssd_data/cifar10/train/5672.png         no_face   \n",
       "12156                  /ssd_data/cifar10/train/48106.png         no_face   \n",
       "12157                  /ssd_data/cifar10/train/40719.png         no_face   \n",
       "12158                  /ssd_data/cifar10/train/32756.png         no_face   \n",
       "12159                  /ssd_data/cifar10/train/28988.png         no_face   \n",
       "\n",
       "        basename                              violla_default_pathes  \\\n",
       "0        104.jpg  /ssd_data/celebrity_data/violla/default/Angeli...   \n",
       "1        724.jpg                                                NaN   \n",
       "2        219.jpg                                                NaN   \n",
       "3        541.jpg  /ssd_data/celebrity_data/violla/default/Angeli...   \n",
       "4        107.jpg  /ssd_data/celebrity_data/violla/default/Angeli...   \n",
       "...          ...                                                ...   \n",
       "12155   5672.png  /ssd_data/celebrity_data/violla/default/cifar/...   \n",
       "12156  48106.png  /ssd_data/celebrity_data/violla/default/cifar/...   \n",
       "12157  40719.png  /ssd_data/celebrity_data/violla/default/cifar/...   \n",
       "12158  32756.png  /ssd_data/celebrity_data/violla/default/cifar/...   \n",
       "12159  28988.png  /ssd_data/celebrity_data/violla/default/cifar/...   \n",
       "\n",
       "                                   violla_mn5_sf3_pathes  \\\n",
       "0                                                    NaN   \n",
       "1                                                    NaN   \n",
       "2                                                    NaN   \n",
       "3                                                    NaN   \n",
       "4                                                    NaN   \n",
       "...                                                  ...   \n",
       "12155  /ssd_data/celebrity_data/violla/mn5_sf3/cifar/...   \n",
       "12156  /ssd_data/celebrity_data/violla/mn5_sf3/cifar/...   \n",
       "12157  /ssd_data/celebrity_data/violla/mn5_sf3/cifar/...   \n",
       "12158  /ssd_data/celebrity_data/violla/mn5_sf3/cifar/...   \n",
       "12159  /ssd_data/celebrity_data/violla/mn5_sf3/cifar/...   \n",
       "\n",
       "                                 violla_mn1_sfdef_pathes  \\\n",
       "0      /ssd_data/celebrity_data/violla/mn1_sfdef/Ange...   \n",
       "1                                                    NaN   \n",
       "2                                                    NaN   \n",
       "3      /ssd_data/celebrity_data/violla/mn1_sfdef/Ange...   \n",
       "4      /ssd_data/celebrity_data/violla/mn1_sfdef/Ange...   \n",
       "...                                                  ...   \n",
       "12155  /ssd_data/celebrity_data/violla/mn1_sfdef/cifa...   \n",
       "12156  /ssd_data/celebrity_data/violla/mn1_sfdef/cifa...   \n",
       "12157  /ssd_data/celebrity_data/violla/mn1_sfdef/cifa...   \n",
       "12158  /ssd_data/celebrity_data/violla/mn1_sfdef/cifa...   \n",
       "12159  /ssd_data/celebrity_data/violla/mn1_sfdef/cifa...   \n",
       "\n",
       "                                              hog_pathes  \n",
       "0                                                    NaN  \n",
       "1                                                    NaN  \n",
       "2                                                    NaN  \n",
       "3      /ssd_data/celebrity_data/hog/Angelina Jolie/54...  \n",
       "4      /ssd_data/celebrity_data/hog/Angelina Jolie/10...  \n",
       "...                                                  ...  \n",
       "12155        /ssd_data/celebrity_data/hog/cifar/5672.png  \n",
       "12156       /ssd_data/celebrity_data/hog/cifar/48106.png  \n",
       "12157       /ssd_data/celebrity_data/hog/cifar/40719.png  \n",
       "12158       /ssd_data/celebrity_data/hog/cifar/32756.png  \n",
       "12159       /ssd_data/celebrity_data/hog/cifar/28988.png  \n",
       "\n",
       "[12160 rows x 7 columns]"
      ]
     },
     "execution_count": 4,
     "metadata": {},
     "output_type": "execute_result"
    }
   ],
   "source": [
    "df = pd.read_csv('data/processed_df.csv')\n",
    "df"
   ]
  },
  {
   "cell_type": "code",
   "execution_count": 5,
   "metadata": {},
   "outputs": [
    {
     "data": {
      "text/plain": [
       "{'Angelina Jolie': 0,\n",
       " 'Adam Sandler': 1,\n",
       " 'Alan Arkin': 2,\n",
       " 'Angela Bassett': 3,\n",
       " 'Alex Pettyfer': 4,\n",
       " 'Al Pacino': 5,\n",
       " 'Andy Samberg': 6,\n",
       " 'Alan Rickman': 7,\n",
       " 'Anna Friel': 8,\n",
       " 'Anna Paquin': 9,\n",
       " 'Andrew Luck': 10,\n",
       " 'rand_celeb': 11,\n",
       " 'no_face': 12}"
      ]
     },
     "execution_count": 5,
     "metadata": {},
     "output_type": "execute_result"
    }
   ],
   "source": [
    "LABEL2ID = {l:i for i,l in enumerate(df.label.unique())}\n",
    "ID2LABEL = {v:k for k,v in LABEL2ID.items()}\n",
    "LABEL2ID"
   ]
  },
  {
   "cell_type": "markdown",
   "metadata": {},
   "source": [
    "Here we have multiclass task, so we will define each label as separate class"
   ]
  },
  {
   "cell_type": "code",
   "execution_count": 6,
   "metadata": {},
   "outputs": [
    {
     "data": {
      "text/html": [
       "<div>\n",
       "<style scoped>\n",
       "    .dataframe tbody tr th:only-of-type {\n",
       "        vertical-align: middle;\n",
       "    }\n",
       "\n",
       "    .dataframe tbody tr th {\n",
       "        vertical-align: top;\n",
       "    }\n",
       "\n",
       "    .dataframe thead th {\n",
       "        text-align: right;\n",
       "    }\n",
       "</style>\n",
       "<table border=\"1\" class=\"dataframe\">\n",
       "  <thead>\n",
       "    <tr style=\"text-align: right;\">\n",
       "      <th></th>\n",
       "      <th>oroginal_path</th>\n",
       "      <th>label</th>\n",
       "      <th>basename</th>\n",
       "      <th>violla_default_pathes</th>\n",
       "      <th>violla_mn5_sf3_pathes</th>\n",
       "      <th>violla_mn1_sfdef_pathes</th>\n",
       "      <th>hog_pathes</th>\n",
       "      <th>label_id</th>\n",
       "    </tr>\n",
       "  </thead>\n",
       "  <tbody>\n",
       "    <tr>\n",
       "      <th>0</th>\n",
       "      <td>/ssd_data/celebrity_data/dir_001/Angelina Joli...</td>\n",
       "      <td>Angelina Jolie</td>\n",
       "      <td>104.jpg</td>\n",
       "      <td>/ssd_data/celebrity_data/violla/default/Angeli...</td>\n",
       "      <td>NaN</td>\n",
       "      <td>/ssd_data/celebrity_data/violla/mn1_sfdef/Ange...</td>\n",
       "      <td>NaN</td>\n",
       "      <td>0</td>\n",
       "    </tr>\n",
       "    <tr>\n",
       "      <th>1</th>\n",
       "      <td>/ssd_data/celebrity_data/dir_001/Angelina Joli...</td>\n",
       "      <td>Angelina Jolie</td>\n",
       "      <td>724.jpg</td>\n",
       "      <td>NaN</td>\n",
       "      <td>NaN</td>\n",
       "      <td>NaN</td>\n",
       "      <td>NaN</td>\n",
       "      <td>0</td>\n",
       "    </tr>\n",
       "    <tr>\n",
       "      <th>2</th>\n",
       "      <td>/ssd_data/celebrity_data/dir_001/Angelina Joli...</td>\n",
       "      <td>Angelina Jolie</td>\n",
       "      <td>219.jpg</td>\n",
       "      <td>NaN</td>\n",
       "      <td>NaN</td>\n",
       "      <td>NaN</td>\n",
       "      <td>NaN</td>\n",
       "      <td>0</td>\n",
       "    </tr>\n",
       "    <tr>\n",
       "      <th>3</th>\n",
       "      <td>/ssd_data/celebrity_data/dir_001/Angelina Joli...</td>\n",
       "      <td>Angelina Jolie</td>\n",
       "      <td>541.jpg</td>\n",
       "      <td>/ssd_data/celebrity_data/violla/default/Angeli...</td>\n",
       "      <td>NaN</td>\n",
       "      <td>/ssd_data/celebrity_data/violla/mn1_sfdef/Ange...</td>\n",
       "      <td>/ssd_data/celebrity_data/hog/Angelina Jolie/54...</td>\n",
       "      <td>0</td>\n",
       "    </tr>\n",
       "    <tr>\n",
       "      <th>4</th>\n",
       "      <td>/ssd_data/celebrity_data/dir_001/Angelina Joli...</td>\n",
       "      <td>Angelina Jolie</td>\n",
       "      <td>107.jpg</td>\n",
       "      <td>/ssd_data/celebrity_data/violla/default/Angeli...</td>\n",
       "      <td>NaN</td>\n",
       "      <td>/ssd_data/celebrity_data/violla/mn1_sfdef/Ange...</td>\n",
       "      <td>/ssd_data/celebrity_data/hog/Angelina Jolie/10...</td>\n",
       "      <td>0</td>\n",
       "    </tr>\n",
       "    <tr>\n",
       "      <th>...</th>\n",
       "      <td>...</td>\n",
       "      <td>...</td>\n",
       "      <td>...</td>\n",
       "      <td>...</td>\n",
       "      <td>...</td>\n",
       "      <td>...</td>\n",
       "      <td>...</td>\n",
       "      <td>...</td>\n",
       "    </tr>\n",
       "    <tr>\n",
       "      <th>12155</th>\n",
       "      <td>/ssd_data/cifar10/train/5672.png</td>\n",
       "      <td>no_face</td>\n",
       "      <td>5672.png</td>\n",
       "      <td>/ssd_data/celebrity_data/violla/default/cifar/...</td>\n",
       "      <td>/ssd_data/celebrity_data/violla/mn5_sf3/cifar/...</td>\n",
       "      <td>/ssd_data/celebrity_data/violla/mn1_sfdef/cifa...</td>\n",
       "      <td>/ssd_data/celebrity_data/hog/cifar/5672.png</td>\n",
       "      <td>12</td>\n",
       "    </tr>\n",
       "    <tr>\n",
       "      <th>12156</th>\n",
       "      <td>/ssd_data/cifar10/train/48106.png</td>\n",
       "      <td>no_face</td>\n",
       "      <td>48106.png</td>\n",
       "      <td>/ssd_data/celebrity_data/violla/default/cifar/...</td>\n",
       "      <td>/ssd_data/celebrity_data/violla/mn5_sf3/cifar/...</td>\n",
       "      <td>/ssd_data/celebrity_data/violla/mn1_sfdef/cifa...</td>\n",
       "      <td>/ssd_data/celebrity_data/hog/cifar/48106.png</td>\n",
       "      <td>12</td>\n",
       "    </tr>\n",
       "    <tr>\n",
       "      <th>12157</th>\n",
       "      <td>/ssd_data/cifar10/train/40719.png</td>\n",
       "      <td>no_face</td>\n",
       "      <td>40719.png</td>\n",
       "      <td>/ssd_data/celebrity_data/violla/default/cifar/...</td>\n",
       "      <td>/ssd_data/celebrity_data/violla/mn5_sf3/cifar/...</td>\n",
       "      <td>/ssd_data/celebrity_data/violla/mn1_sfdef/cifa...</td>\n",
       "      <td>/ssd_data/celebrity_data/hog/cifar/40719.png</td>\n",
       "      <td>12</td>\n",
       "    </tr>\n",
       "    <tr>\n",
       "      <th>12158</th>\n",
       "      <td>/ssd_data/cifar10/train/32756.png</td>\n",
       "      <td>no_face</td>\n",
       "      <td>32756.png</td>\n",
       "      <td>/ssd_data/celebrity_data/violla/default/cifar/...</td>\n",
       "      <td>/ssd_data/celebrity_data/violla/mn5_sf3/cifar/...</td>\n",
       "      <td>/ssd_data/celebrity_data/violla/mn1_sfdef/cifa...</td>\n",
       "      <td>/ssd_data/celebrity_data/hog/cifar/32756.png</td>\n",
       "      <td>12</td>\n",
       "    </tr>\n",
       "    <tr>\n",
       "      <th>12159</th>\n",
       "      <td>/ssd_data/cifar10/train/28988.png</td>\n",
       "      <td>no_face</td>\n",
       "      <td>28988.png</td>\n",
       "      <td>/ssd_data/celebrity_data/violla/default/cifar/...</td>\n",
       "      <td>/ssd_data/celebrity_data/violla/mn5_sf3/cifar/...</td>\n",
       "      <td>/ssd_data/celebrity_data/violla/mn1_sfdef/cifa...</td>\n",
       "      <td>/ssd_data/celebrity_data/hog/cifar/28988.png</td>\n",
       "      <td>12</td>\n",
       "    </tr>\n",
       "  </tbody>\n",
       "</table>\n",
       "<p>12160 rows × 8 columns</p>\n",
       "</div>"
      ],
      "text/plain": [
       "                                           oroginal_path           label  \\\n",
       "0      /ssd_data/celebrity_data/dir_001/Angelina Joli...  Angelina Jolie   \n",
       "1      /ssd_data/celebrity_data/dir_001/Angelina Joli...  Angelina Jolie   \n",
       "2      /ssd_data/celebrity_data/dir_001/Angelina Joli...  Angelina Jolie   \n",
       "3      /ssd_data/celebrity_data/dir_001/Angelina Joli...  Angelina Jolie   \n",
       "4      /ssd_data/celebrity_data/dir_001/Angelina Joli...  Angelina Jolie   \n",
       "...                                                  ...             ...   \n",
       "12155                   /ssd_data/cifar10/train/5672.png         no_face   \n",
       "12156                  /ssd_data/cifar10/train/48106.png         no_face   \n",
       "12157                  /ssd_data/cifar10/train/40719.png         no_face   \n",
       "12158                  /ssd_data/cifar10/train/32756.png         no_face   \n",
       "12159                  /ssd_data/cifar10/train/28988.png         no_face   \n",
       "\n",
       "        basename                              violla_default_pathes  \\\n",
       "0        104.jpg  /ssd_data/celebrity_data/violla/default/Angeli...   \n",
       "1        724.jpg                                                NaN   \n",
       "2        219.jpg                                                NaN   \n",
       "3        541.jpg  /ssd_data/celebrity_data/violla/default/Angeli...   \n",
       "4        107.jpg  /ssd_data/celebrity_data/violla/default/Angeli...   \n",
       "...          ...                                                ...   \n",
       "12155   5672.png  /ssd_data/celebrity_data/violla/default/cifar/...   \n",
       "12156  48106.png  /ssd_data/celebrity_data/violla/default/cifar/...   \n",
       "12157  40719.png  /ssd_data/celebrity_data/violla/default/cifar/...   \n",
       "12158  32756.png  /ssd_data/celebrity_data/violla/default/cifar/...   \n",
       "12159  28988.png  /ssd_data/celebrity_data/violla/default/cifar/...   \n",
       "\n",
       "                                   violla_mn5_sf3_pathes  \\\n",
       "0                                                    NaN   \n",
       "1                                                    NaN   \n",
       "2                                                    NaN   \n",
       "3                                                    NaN   \n",
       "4                                                    NaN   \n",
       "...                                                  ...   \n",
       "12155  /ssd_data/celebrity_data/violla/mn5_sf3/cifar/...   \n",
       "12156  /ssd_data/celebrity_data/violla/mn5_sf3/cifar/...   \n",
       "12157  /ssd_data/celebrity_data/violla/mn5_sf3/cifar/...   \n",
       "12158  /ssd_data/celebrity_data/violla/mn5_sf3/cifar/...   \n",
       "12159  /ssd_data/celebrity_data/violla/mn5_sf3/cifar/...   \n",
       "\n",
       "                                 violla_mn1_sfdef_pathes  \\\n",
       "0      /ssd_data/celebrity_data/violla/mn1_sfdef/Ange...   \n",
       "1                                                    NaN   \n",
       "2                                                    NaN   \n",
       "3      /ssd_data/celebrity_data/violla/mn1_sfdef/Ange...   \n",
       "4      /ssd_data/celebrity_data/violla/mn1_sfdef/Ange...   \n",
       "...                                                  ...   \n",
       "12155  /ssd_data/celebrity_data/violla/mn1_sfdef/cifa...   \n",
       "12156  /ssd_data/celebrity_data/violla/mn1_sfdef/cifa...   \n",
       "12157  /ssd_data/celebrity_data/violla/mn1_sfdef/cifa...   \n",
       "12158  /ssd_data/celebrity_data/violla/mn1_sfdef/cifa...   \n",
       "12159  /ssd_data/celebrity_data/violla/mn1_sfdef/cifa...   \n",
       "\n",
       "                                              hog_pathes  label_id  \n",
       "0                                                    NaN         0  \n",
       "1                                                    NaN         0  \n",
       "2                                                    NaN         0  \n",
       "3      /ssd_data/celebrity_data/hog/Angelina Jolie/54...         0  \n",
       "4      /ssd_data/celebrity_data/hog/Angelina Jolie/10...         0  \n",
       "...                                                  ...       ...  \n",
       "12155        /ssd_data/celebrity_data/hog/cifar/5672.png        12  \n",
       "12156       /ssd_data/celebrity_data/hog/cifar/48106.png        12  \n",
       "12157       /ssd_data/celebrity_data/hog/cifar/40719.png        12  \n",
       "12158       /ssd_data/celebrity_data/hog/cifar/32756.png        12  \n",
       "12159       /ssd_data/celebrity_data/hog/cifar/28988.png        12  \n",
       "\n",
       "[12160 rows x 8 columns]"
      ]
     },
     "execution_count": 6,
     "metadata": {},
     "output_type": "execute_result"
    }
   ],
   "source": [
    "df['label_id'] = df['label'].map(LABEL2ID)\n",
    "df"
   ]
  },
  {
   "cell_type": "markdown",
   "metadata": {},
   "source": [
    "Now we will prepare prediction columns for each algorithm and put `no_face` label if there is a face but it was not found"
   ]
  },
  {
   "cell_type": "code",
   "execution_count": 7,
   "metadata": {},
   "outputs": [],
   "source": [
    "PREPROCESS_COLS = ['violla_default_pathes', 'violla_mn5_sf3_pathes', 'violla_mn1_sfdef_pathes', 'hog_pathes']\n",
    "for col in PREPROCESS_COLS:\n",
    "    pred_col = col[:-len('_pathes')] + '_pred'\n",
    "    df[pred_col] = None\n",
    "    df.loc[df[col].isna() & (df['label_id'] != 12), pred_col] = 12"
   ]
  },
  {
   "cell_type": "code",
   "execution_count": 8,
   "metadata": {},
   "outputs": [
    {
     "data": {
      "text/html": [
       "<div>\n",
       "<style scoped>\n",
       "    .dataframe tbody tr th:only-of-type {\n",
       "        vertical-align: middle;\n",
       "    }\n",
       "\n",
       "    .dataframe tbody tr th {\n",
       "        vertical-align: top;\n",
       "    }\n",
       "\n",
       "    .dataframe thead th {\n",
       "        text-align: right;\n",
       "    }\n",
       "</style>\n",
       "<table border=\"1\" class=\"dataframe\">\n",
       "  <thead>\n",
       "    <tr style=\"text-align: right;\">\n",
       "      <th></th>\n",
       "      <th>oroginal_path</th>\n",
       "      <th>label</th>\n",
       "      <th>basename</th>\n",
       "      <th>violla_default_pathes</th>\n",
       "      <th>violla_mn5_sf3_pathes</th>\n",
       "      <th>violla_mn1_sfdef_pathes</th>\n",
       "      <th>hog_pathes</th>\n",
       "      <th>label_id</th>\n",
       "      <th>violla_default_pred</th>\n",
       "      <th>violla_mn5_sf3_pred</th>\n",
       "      <th>violla_mn1_sfdef_pred</th>\n",
       "      <th>hog_pred</th>\n",
       "    </tr>\n",
       "  </thead>\n",
       "  <tbody>\n",
       "    <tr>\n",
       "      <th>0</th>\n",
       "      <td>/ssd_data/celebrity_data/dir_001/Angelina Joli...</td>\n",
       "      <td>Angelina Jolie</td>\n",
       "      <td>104.jpg</td>\n",
       "      <td>/ssd_data/celebrity_data/violla/default/Angeli...</td>\n",
       "      <td>NaN</td>\n",
       "      <td>/ssd_data/celebrity_data/violla/mn1_sfdef/Ange...</td>\n",
       "      <td>NaN</td>\n",
       "      <td>0</td>\n",
       "      <td>None</td>\n",
       "      <td>12</td>\n",
       "      <td>None</td>\n",
       "      <td>12</td>\n",
       "    </tr>\n",
       "    <tr>\n",
       "      <th>1</th>\n",
       "      <td>/ssd_data/celebrity_data/dir_001/Angelina Joli...</td>\n",
       "      <td>Angelina Jolie</td>\n",
       "      <td>724.jpg</td>\n",
       "      <td>NaN</td>\n",
       "      <td>NaN</td>\n",
       "      <td>NaN</td>\n",
       "      <td>NaN</td>\n",
       "      <td>0</td>\n",
       "      <td>12</td>\n",
       "      <td>12</td>\n",
       "      <td>12</td>\n",
       "      <td>12</td>\n",
       "    </tr>\n",
       "    <tr>\n",
       "      <th>2</th>\n",
       "      <td>/ssd_data/celebrity_data/dir_001/Angelina Joli...</td>\n",
       "      <td>Angelina Jolie</td>\n",
       "      <td>219.jpg</td>\n",
       "      <td>NaN</td>\n",
       "      <td>NaN</td>\n",
       "      <td>NaN</td>\n",
       "      <td>NaN</td>\n",
       "      <td>0</td>\n",
       "      <td>12</td>\n",
       "      <td>12</td>\n",
       "      <td>12</td>\n",
       "      <td>12</td>\n",
       "    </tr>\n",
       "    <tr>\n",
       "      <th>3</th>\n",
       "      <td>/ssd_data/celebrity_data/dir_001/Angelina Joli...</td>\n",
       "      <td>Angelina Jolie</td>\n",
       "      <td>541.jpg</td>\n",
       "      <td>/ssd_data/celebrity_data/violla/default/Angeli...</td>\n",
       "      <td>NaN</td>\n",
       "      <td>/ssd_data/celebrity_data/violla/mn1_sfdef/Ange...</td>\n",
       "      <td>/ssd_data/celebrity_data/hog/Angelina Jolie/54...</td>\n",
       "      <td>0</td>\n",
       "      <td>None</td>\n",
       "      <td>12</td>\n",
       "      <td>None</td>\n",
       "      <td>None</td>\n",
       "    </tr>\n",
       "    <tr>\n",
       "      <th>4</th>\n",
       "      <td>/ssd_data/celebrity_data/dir_001/Angelina Joli...</td>\n",
       "      <td>Angelina Jolie</td>\n",
       "      <td>107.jpg</td>\n",
       "      <td>/ssd_data/celebrity_data/violla/default/Angeli...</td>\n",
       "      <td>NaN</td>\n",
       "      <td>/ssd_data/celebrity_data/violla/mn1_sfdef/Ange...</td>\n",
       "      <td>/ssd_data/celebrity_data/hog/Angelina Jolie/10...</td>\n",
       "      <td>0</td>\n",
       "      <td>None</td>\n",
       "      <td>12</td>\n",
       "      <td>None</td>\n",
       "      <td>None</td>\n",
       "    </tr>\n",
       "    <tr>\n",
       "      <th>...</th>\n",
       "      <td>...</td>\n",
       "      <td>...</td>\n",
       "      <td>...</td>\n",
       "      <td>...</td>\n",
       "      <td>...</td>\n",
       "      <td>...</td>\n",
       "      <td>...</td>\n",
       "      <td>...</td>\n",
       "      <td>...</td>\n",
       "      <td>...</td>\n",
       "      <td>...</td>\n",
       "      <td>...</td>\n",
       "    </tr>\n",
       "    <tr>\n",
       "      <th>12155</th>\n",
       "      <td>/ssd_data/cifar10/train/5672.png</td>\n",
       "      <td>no_face</td>\n",
       "      <td>5672.png</td>\n",
       "      <td>/ssd_data/celebrity_data/violla/default/cifar/...</td>\n",
       "      <td>/ssd_data/celebrity_data/violla/mn5_sf3/cifar/...</td>\n",
       "      <td>/ssd_data/celebrity_data/violla/mn1_sfdef/cifa...</td>\n",
       "      <td>/ssd_data/celebrity_data/hog/cifar/5672.png</td>\n",
       "      <td>12</td>\n",
       "      <td>None</td>\n",
       "      <td>None</td>\n",
       "      <td>None</td>\n",
       "      <td>None</td>\n",
       "    </tr>\n",
       "    <tr>\n",
       "      <th>12156</th>\n",
       "      <td>/ssd_data/cifar10/train/48106.png</td>\n",
       "      <td>no_face</td>\n",
       "      <td>48106.png</td>\n",
       "      <td>/ssd_data/celebrity_data/violla/default/cifar/...</td>\n",
       "      <td>/ssd_data/celebrity_data/violla/mn5_sf3/cifar/...</td>\n",
       "      <td>/ssd_data/celebrity_data/violla/mn1_sfdef/cifa...</td>\n",
       "      <td>/ssd_data/celebrity_data/hog/cifar/48106.png</td>\n",
       "      <td>12</td>\n",
       "      <td>None</td>\n",
       "      <td>None</td>\n",
       "      <td>None</td>\n",
       "      <td>None</td>\n",
       "    </tr>\n",
       "    <tr>\n",
       "      <th>12157</th>\n",
       "      <td>/ssd_data/cifar10/train/40719.png</td>\n",
       "      <td>no_face</td>\n",
       "      <td>40719.png</td>\n",
       "      <td>/ssd_data/celebrity_data/violla/default/cifar/...</td>\n",
       "      <td>/ssd_data/celebrity_data/violla/mn5_sf3/cifar/...</td>\n",
       "      <td>/ssd_data/celebrity_data/violla/mn1_sfdef/cifa...</td>\n",
       "      <td>/ssd_data/celebrity_data/hog/cifar/40719.png</td>\n",
       "      <td>12</td>\n",
       "      <td>None</td>\n",
       "      <td>None</td>\n",
       "      <td>None</td>\n",
       "      <td>None</td>\n",
       "    </tr>\n",
       "    <tr>\n",
       "      <th>12158</th>\n",
       "      <td>/ssd_data/cifar10/train/32756.png</td>\n",
       "      <td>no_face</td>\n",
       "      <td>32756.png</td>\n",
       "      <td>/ssd_data/celebrity_data/violla/default/cifar/...</td>\n",
       "      <td>/ssd_data/celebrity_data/violla/mn5_sf3/cifar/...</td>\n",
       "      <td>/ssd_data/celebrity_data/violla/mn1_sfdef/cifa...</td>\n",
       "      <td>/ssd_data/celebrity_data/hog/cifar/32756.png</td>\n",
       "      <td>12</td>\n",
       "      <td>None</td>\n",
       "      <td>None</td>\n",
       "      <td>None</td>\n",
       "      <td>None</td>\n",
       "    </tr>\n",
       "    <tr>\n",
       "      <th>12159</th>\n",
       "      <td>/ssd_data/cifar10/train/28988.png</td>\n",
       "      <td>no_face</td>\n",
       "      <td>28988.png</td>\n",
       "      <td>/ssd_data/celebrity_data/violla/default/cifar/...</td>\n",
       "      <td>/ssd_data/celebrity_data/violla/mn5_sf3/cifar/...</td>\n",
       "      <td>/ssd_data/celebrity_data/violla/mn1_sfdef/cifa...</td>\n",
       "      <td>/ssd_data/celebrity_data/hog/cifar/28988.png</td>\n",
       "      <td>12</td>\n",
       "      <td>None</td>\n",
       "      <td>None</td>\n",
       "      <td>None</td>\n",
       "      <td>None</td>\n",
       "    </tr>\n",
       "  </tbody>\n",
       "</table>\n",
       "<p>12160 rows × 12 columns</p>\n",
       "</div>"
      ],
      "text/plain": [
       "                                           oroginal_path           label  \\\n",
       "0      /ssd_data/celebrity_data/dir_001/Angelina Joli...  Angelina Jolie   \n",
       "1      /ssd_data/celebrity_data/dir_001/Angelina Joli...  Angelina Jolie   \n",
       "2      /ssd_data/celebrity_data/dir_001/Angelina Joli...  Angelina Jolie   \n",
       "3      /ssd_data/celebrity_data/dir_001/Angelina Joli...  Angelina Jolie   \n",
       "4      /ssd_data/celebrity_data/dir_001/Angelina Joli...  Angelina Jolie   \n",
       "...                                                  ...             ...   \n",
       "12155                   /ssd_data/cifar10/train/5672.png         no_face   \n",
       "12156                  /ssd_data/cifar10/train/48106.png         no_face   \n",
       "12157                  /ssd_data/cifar10/train/40719.png         no_face   \n",
       "12158                  /ssd_data/cifar10/train/32756.png         no_face   \n",
       "12159                  /ssd_data/cifar10/train/28988.png         no_face   \n",
       "\n",
       "        basename                              violla_default_pathes  \\\n",
       "0        104.jpg  /ssd_data/celebrity_data/violla/default/Angeli...   \n",
       "1        724.jpg                                                NaN   \n",
       "2        219.jpg                                                NaN   \n",
       "3        541.jpg  /ssd_data/celebrity_data/violla/default/Angeli...   \n",
       "4        107.jpg  /ssd_data/celebrity_data/violla/default/Angeli...   \n",
       "...          ...                                                ...   \n",
       "12155   5672.png  /ssd_data/celebrity_data/violla/default/cifar/...   \n",
       "12156  48106.png  /ssd_data/celebrity_data/violla/default/cifar/...   \n",
       "12157  40719.png  /ssd_data/celebrity_data/violla/default/cifar/...   \n",
       "12158  32756.png  /ssd_data/celebrity_data/violla/default/cifar/...   \n",
       "12159  28988.png  /ssd_data/celebrity_data/violla/default/cifar/...   \n",
       "\n",
       "                                   violla_mn5_sf3_pathes  \\\n",
       "0                                                    NaN   \n",
       "1                                                    NaN   \n",
       "2                                                    NaN   \n",
       "3                                                    NaN   \n",
       "4                                                    NaN   \n",
       "...                                                  ...   \n",
       "12155  /ssd_data/celebrity_data/violla/mn5_sf3/cifar/...   \n",
       "12156  /ssd_data/celebrity_data/violla/mn5_sf3/cifar/...   \n",
       "12157  /ssd_data/celebrity_data/violla/mn5_sf3/cifar/...   \n",
       "12158  /ssd_data/celebrity_data/violla/mn5_sf3/cifar/...   \n",
       "12159  /ssd_data/celebrity_data/violla/mn5_sf3/cifar/...   \n",
       "\n",
       "                                 violla_mn1_sfdef_pathes  \\\n",
       "0      /ssd_data/celebrity_data/violla/mn1_sfdef/Ange...   \n",
       "1                                                    NaN   \n",
       "2                                                    NaN   \n",
       "3      /ssd_data/celebrity_data/violla/mn1_sfdef/Ange...   \n",
       "4      /ssd_data/celebrity_data/violla/mn1_sfdef/Ange...   \n",
       "...                                                  ...   \n",
       "12155  /ssd_data/celebrity_data/violla/mn1_sfdef/cifa...   \n",
       "12156  /ssd_data/celebrity_data/violla/mn1_sfdef/cifa...   \n",
       "12157  /ssd_data/celebrity_data/violla/mn1_sfdef/cifa...   \n",
       "12158  /ssd_data/celebrity_data/violla/mn1_sfdef/cifa...   \n",
       "12159  /ssd_data/celebrity_data/violla/mn1_sfdef/cifa...   \n",
       "\n",
       "                                              hog_pathes  label_id  \\\n",
       "0                                                    NaN         0   \n",
       "1                                                    NaN         0   \n",
       "2                                                    NaN         0   \n",
       "3      /ssd_data/celebrity_data/hog/Angelina Jolie/54...         0   \n",
       "4      /ssd_data/celebrity_data/hog/Angelina Jolie/10...         0   \n",
       "...                                                  ...       ...   \n",
       "12155        /ssd_data/celebrity_data/hog/cifar/5672.png        12   \n",
       "12156       /ssd_data/celebrity_data/hog/cifar/48106.png        12   \n",
       "12157       /ssd_data/celebrity_data/hog/cifar/40719.png        12   \n",
       "12158       /ssd_data/celebrity_data/hog/cifar/32756.png        12   \n",
       "12159       /ssd_data/celebrity_data/hog/cifar/28988.png        12   \n",
       "\n",
       "      violla_default_pred violla_mn5_sf3_pred violla_mn1_sfdef_pred hog_pred  \n",
       "0                    None                  12                  None       12  \n",
       "1                      12                  12                    12       12  \n",
       "2                      12                  12                    12       12  \n",
       "3                    None                  12                  None     None  \n",
       "4                    None                  12                  None     None  \n",
       "...                   ...                 ...                   ...      ...  \n",
       "12155                None                None                  None     None  \n",
       "12156                None                None                  None     None  \n",
       "12157                None                None                  None     None  \n",
       "12158                None                None                  None     None  \n",
       "12159                None                None                  None     None  \n",
       "\n",
       "[12160 rows x 12 columns]"
      ]
     },
     "execution_count": 8,
     "metadata": {},
     "output_type": "execute_result"
    }
   ],
   "source": [
    "df"
   ]
  },
  {
   "cell_type": "markdown",
   "metadata": {},
   "source": [
    "## Train/Test split"
   ]
  },
  {
   "cell_type": "code",
   "execution_count": 9,
   "metadata": {},
   "outputs": [],
   "source": [
    "def train_test_split(\n",
    "    df_p: pd.DataFrame,\n",
    "    split_col: str\n",
    "):\n",
    "    cv_policy = StratifiedShuffleSplit(n_splits=1, test_size=0.3, random_state=RS)\n",
    "    train_idx, test_idx = list(cv_policy.split(df_p, df_p[split_col]))[0]\n",
    "    \n",
    "    return (\n",
    "        df_p.iloc[train_idx].reset_index(drop=True), \n",
    "        df_p.iloc[test_idx].reset_index(drop=True)\n",
    "    )"
   ]
  },
  {
   "cell_type": "code",
   "execution_count": 10,
   "metadata": {},
   "outputs": [],
   "source": [
    "train_df, test_df = train_test_split(\n",
    "    df_p=df,\n",
    "    split_col='label_id'\n",
    ")"
   ]
  },
  {
   "cell_type": "code",
   "execution_count": 11,
   "metadata": {},
   "outputs": [
    {
     "data": {
      "image/png": "[encoded data removed]",
      "text/plain": [
       "<Figure size 2160x720 with 1 Axes>"
      ]
     },
     "metadata": {
      "needs_background": "light"
     },
     "output_type": "display_data"
    },
    {
     "data": {
      "image/png": "[encoded data removed]",
      "text/plain": [
       "<Figure size 2160x720 with 1 Axes>"
      ]
     },
     "metadata": {
      "needs_background": "light"
     },
     "output_type": "display_data"
    }
   ],
   "source": [
    "plt.figure(figsize=(30,10))\n",
    "plt.title(\"Hog Train label distribution\")\n",
    "sns.countplot(train_df.label_id)\n",
    "plt.show()\n",
    "\n",
    "plt.figure(figsize=(30,10))\n",
    "plt.title(\"Hog Test label distribution\")\n",
    "sns.countplot(test_df.label_id)\n",
    "plt.show()"
   ]
  },
  {
   "cell_type": "code",
   "execution_count": 12,
   "metadata": {},
   "outputs": [],
   "source": [
    "result_df = pd.DataFrame(\n",
    "    columns=[\n",
    "        'exp_name', \n",
    "        'overall_accuracy_val', 'joli_accuracy_val',\n",
    "        'overall_accuracy_train', 'joli_accuracy_train',\n",
    "    ]\n",
    ")"
   ]
  },
  {
   "cell_type": "code",
   "execution_count": 13,
   "metadata": {},
   "outputs": [],
   "source": [
    "#!rm logdirs -rf"
   ]
  },
  {
   "cell_type": "markdown",
   "metadata": {},
   "source": [
    "## Hog dataset"
   ]
  },
  {
   "cell_type": "markdown",
   "metadata": {},
   "source": [
    "### Train and Infernce"
   ]
  },
  {
   "cell_type": "code",
   "execution_count": 14,
   "metadata": {},
   "outputs": [],
   "source": [
    "pipe = Pipeline([\n",
    "    ('scaler', StandardScaler()), \n",
    "    ('pca', PCA(n_components=1024, random_state=RS)),\n",
    "    ('svc', SVC(random_state=RS))\n",
    "])"
   ]
  },
  {
   "cell_type": "code",
   "execution_count": 15,
   "metadata": {},
   "outputs": [
    {
     "name": "stderr",
     "output_type": "stream",
     "text": [
      "  5%|▍         | 371/7834 [00:00<00:02, 3705.20it/s]"
     ]
    },
    {
     "name": "stdout",
     "output_type": "stream",
     "text": [
      "Train processing\n"
     ]
    },
    {
     "name": "stderr",
     "output_type": "stream",
     "text": [
      "100%|██████████| 7834/7834 [00:01<00:00, 4001.05it/s]\n"
     ]
    },
    {
     "name": "stdout",
     "output_type": "stream",
     "text": [
      "Fit model\n",
      "Train predciting\n"
     ]
    },
    {
     "name": "stderr",
     "output_type": "stream",
     "text": [
      " 12%|█▏        | 404/3363 [00:00<00:00, 4033.90it/s]"
     ]
    },
    {
     "name": "stdout",
     "output_type": "stream",
     "text": [
      "Test processing\n"
     ]
    },
    {
     "name": "stderr",
     "output_type": "stream",
     "text": [
      "100%|██████████| 3363/3363 [00:00<00:00, 4082.67it/s]\n"
     ]
    },
    {
     "name": "stdout",
     "output_type": "stream",
     "text": [
      "Test predciting\n",
      "Ready!!!\n"
     ]
    }
   ],
   "source": [
    "hog_train_pred, hog_test_pred, _ = train_predict(\n",
    "    sklearn_alg=pipe,\n",
    "    train_df=train_df[~train_df.hog_pathes.isna()].reset_index(drop=True),\n",
    "    val_df=test_df[~test_df.hog_pathes.isna()].reset_index(drop=True),\n",
    "    path_col='hog_pathes',\n",
    "    target_col='label_id'\n",
    ")"
   ]
  },
  {
   "cell_type": "code",
   "execution_count": 16,
   "metadata": {},
   "outputs": [],
   "source": [
    "test_df.loc[~test_df.hog_pathes.isna(), 'hog_pred'] = hog_test_pred\n",
    "test_df['hog_pred'] = test_df['hog_pred'].astype(int)\n",
    "\n",
    "train_df.loc[~train_df.hog_pathes.isna(), 'hog_pred'] = hog_train_pred\n",
    "train_df['hog_pred'] = train_df['hog_pred'].astype(int)"
   ]
  },
  {
   "cell_type": "code",
   "execution_count": 17,
   "metadata": {},
   "outputs": [
    {
     "data": {
      "text/html": [
       "<div>\n",
       "<style scoped>\n",
       "    .dataframe tbody tr th:only-of-type {\n",
       "        vertical-align: middle;\n",
       "    }\n",
       "\n",
       "    .dataframe tbody tr th {\n",
       "        vertical-align: top;\n",
       "    }\n",
       "\n",
       "    .dataframe thead th {\n",
       "        text-align: right;\n",
       "    }\n",
       "</style>\n",
       "<table border=\"1\" class=\"dataframe\">\n",
       "  <thead>\n",
       "    <tr style=\"text-align: right;\">\n",
       "      <th></th>\n",
       "      <th>exp_name</th>\n",
       "      <th>overall_accuracy_val</th>\n",
       "      <th>joli_accuracy_val</th>\n",
       "      <th>overall_accuracy_train</th>\n",
       "      <th>joli_accuracy_train</th>\n",
       "    </tr>\n",
       "  </thead>\n",
       "  <tbody>\n",
       "    <tr>\n",
       "      <th>0</th>\n",
       "      <td>hog_svm</td>\n",
       "      <td>0.518092</td>\n",
       "      <td>0.380342</td>\n",
       "      <td>0.724624</td>\n",
       "      <td>0.565934</td>\n",
       "    </tr>\n",
       "  </tbody>\n",
       "</table>\n",
       "</div>"
      ],
      "text/plain": [
       "  exp_name  overall_accuracy_val  joli_accuracy_val  overall_accuracy_train  \\\n",
       "0  hog_svm              0.518092           0.380342                0.724624   \n",
       "\n",
       "   joli_accuracy_train  \n",
       "0             0.565934  "
      ]
     },
     "execution_count": 17,
     "metadata": {},
     "output_type": "execute_result"
    }
   ],
   "source": [
    "result_df = result_df.append({\n",
    "    \"exp_name\":'hog_svm', \n",
    "    \"overall_accuracy_val\":accuracy_score(test_df.label_id, test_df.hog_pred),\n",
    "    \"joli_accuracy_val\":accuracy_score(test_df[test_df.label_id == 0].label_id, test_df[test_df.label_id == 0].hog_pred),\n",
    "    \"overall_accuracy_train\":accuracy_score(train_df.label_id, train_df.hog_pred),\n",
    "    \"joli_accuracy_train\":accuracy_score(train_df[train_df.label_id == 0].label_id, train_df[train_df.label_id == 0].hog_pred)\n",
    "}, ignore_index=True)\n",
    "\n",
    "result_df"
   ]
  },
  {
   "cell_type": "markdown",
   "metadata": {},
   "source": [
    "## Violla_default dataset"
   ]
  },
  {
   "cell_type": "markdown",
   "metadata": {},
   "source": [
    "### Train and Infernce"
   ]
  },
  {
   "cell_type": "code",
   "execution_count": 18,
   "metadata": {},
   "outputs": [],
   "source": [
    "pipe = Pipeline([\n",
    "    ('scaler', StandardScaler()), \n",
    "    ('pca', PCA(n_components=1024, random_state=RS)),\n",
    "    ('svc', SVC(random_state=RS))\n",
    "])"
   ]
  },
  {
   "cell_type": "code",
   "execution_count": 19,
   "metadata": {},
   "outputs": [
    {
     "name": "stderr",
     "output_type": "stream",
     "text": [
      "  6%|▌         | 401/7034 [00:00<00:01, 4007.59it/s]"
     ]
    },
    {
     "name": "stdout",
     "output_type": "stream",
     "text": [
      "Train processing\n"
     ]
    },
    {
     "name": "stderr",
     "output_type": "stream",
     "text": [
      "100%|██████████| 7034/7034 [00:01<00:00, 4005.53it/s]\n"
     ]
    },
    {
     "name": "stdout",
     "output_type": "stream",
     "text": [
      "Fit model\n",
      "Train predciting\n"
     ]
    },
    {
     "name": "stderr",
     "output_type": "stream",
     "text": [
      " 13%|█▎        | 401/3032 [00:00<00:00, 4007.29it/s]"
     ]
    },
    {
     "name": "stdout",
     "output_type": "stream",
     "text": [
      "Test processing\n"
     ]
    },
    {
     "name": "stderr",
     "output_type": "stream",
     "text": [
      "100%|██████████| 3032/3032 [00:00<00:00, 4036.31it/s]\n"
     ]
    },
    {
     "name": "stdout",
     "output_type": "stream",
     "text": [
      "Test predciting\n",
      "Ready!!!\n"
     ]
    }
   ],
   "source": [
    "violla_default_train_pred, violla_default_test_pred, _ = train_predict(\n",
    "    sklearn_alg=pipe,\n",
    "    train_df=train_df[~train_df.violla_default_pathes.isna()].reset_index(drop=True),\n",
    "    val_df=test_df[~test_df.violla_default_pathes.isna()].reset_index(drop=True),\n",
    "    path_col='violla_default_pathes',\n",
    "    target_col='label_id'\n",
    ")"
   ]
  },
  {
   "cell_type": "code",
   "execution_count": 20,
   "metadata": {},
   "outputs": [],
   "source": [
    "test_df.loc[~test_df.violla_default_pathes.isna(), 'violla_default_pred'] = violla_default_test_pred\n",
    "test_df['violla_default_pred'] = test_df['violla_default_pred'].astype(int)\n",
    "\n",
    "train_df.loc[~train_df.violla_default_pathes.isna(), 'violla_default_pred'] = violla_default_train_pred\n",
    "train_df['violla_default_pred'] = train_df['violla_default_pred'].astype(int)"
   ]
  },
  {
   "cell_type": "code",
   "execution_count": 21,
   "metadata": {},
   "outputs": [
    {
     "data": {
      "text/html": [
       "<div>\n",
       "<style scoped>\n",
       "    .dataframe tbody tr th:only-of-type {\n",
       "        vertical-align: middle;\n",
       "    }\n",
       "\n",
       "    .dataframe tbody tr th {\n",
       "        vertical-align: top;\n",
       "    }\n",
       "\n",
       "    .dataframe thead th {\n",
       "        text-align: right;\n",
       "    }\n",
       "</style>\n",
       "<table border=\"1\" class=\"dataframe\">\n",
       "  <thead>\n",
       "    <tr style=\"text-align: right;\">\n",
       "      <th></th>\n",
       "      <th>exp_name</th>\n",
       "      <th>overall_accuracy_val</th>\n",
       "      <th>joli_accuracy_val</th>\n",
       "      <th>overall_accuracy_train</th>\n",
       "      <th>joli_accuracy_train</th>\n",
       "    </tr>\n",
       "  </thead>\n",
       "  <tbody>\n",
       "    <tr>\n",
       "      <th>0</th>\n",
       "      <td>hog_svm</td>\n",
       "      <td>0.518092</td>\n",
       "      <td>0.380342</td>\n",
       "      <td>0.724624</td>\n",
       "      <td>0.565934</td>\n",
       "    </tr>\n",
       "    <tr>\n",
       "      <th>1</th>\n",
       "      <td>violla_default_baseline</td>\n",
       "      <td>0.521656</td>\n",
       "      <td>0.329060</td>\n",
       "      <td>0.679394</td>\n",
       "      <td>0.496337</td>\n",
       "    </tr>\n",
       "  </tbody>\n",
       "</table>\n",
       "</div>"
      ],
      "text/plain": [
       "                  exp_name  overall_accuracy_val  joli_accuracy_val  \\\n",
       "0                  hog_svm              0.518092           0.380342   \n",
       "1  violla_default_baseline              0.521656           0.329060   \n",
       "\n",
       "   overall_accuracy_train  joli_accuracy_train  \n",
       "0                0.724624             0.565934  \n",
       "1                0.679394             0.496337  "
      ]
     },
     "execution_count": 21,
     "metadata": {},
     "output_type": "execute_result"
    }
   ],
   "source": [
    "result_df = result_df.append({\n",
    "    \"exp_name\":'violla_default_baseline', \n",
    "    \"overall_accuracy_val\":accuracy_score(test_df.label_id, test_df.violla_default_pred),\n",
    "    \"joli_accuracy_val\":accuracy_score(test_df[test_df.label_id == 0].label_id, test_df[test_df.label_id == 0].violla_default_pred),\n",
    "    \"overall_accuracy_train\":accuracy_score(train_df.label_id, train_df.violla_default_pred),\n",
    "    \"joli_accuracy_train\":accuracy_score(train_df[train_df.label_id == 0].label_id, train_df[train_df.label_id == 0].violla_default_pred)\n",
    "}, ignore_index=True)\n",
    "\n",
    "result_df"
   ]
  },
  {
   "cell_type": "markdown",
   "metadata": {},
   "source": [
    "## Violla_mn1_sfdef_pathes dataset"
   ]
  },
  {
   "cell_type": "markdown",
   "metadata": {},
   "source": [
    "### Train and Infernce"
   ]
  },
  {
   "cell_type": "code",
   "execution_count": 22,
   "metadata": {},
   "outputs": [],
   "source": [
    "pipe = Pipeline([\n",
    "    ('scaler', StandardScaler()), \n",
    "    ('pca', PCA(n_components=1024, random_state=RS)),\n",
    "    ('svc', SVC(random_state=RS))\n",
    "])"
   ]
  },
  {
   "cell_type": "code",
   "execution_count": 23,
   "metadata": {},
   "outputs": [
    {
     "name": "stderr",
     "output_type": "stream",
     "text": [
      "  5%|▌         | 410/7768 [00:00<00:01, 4094.20it/s]"
     ]
    },
    {
     "name": "stdout",
     "output_type": "stream",
     "text": [
      "Train processing\n"
     ]
    },
    {
     "name": "stderr",
     "output_type": "stream",
     "text": [
      "100%|██████████| 7768/7768 [00:01<00:00, 4051.51it/s]\n"
     ]
    },
    {
     "name": "stdout",
     "output_type": "stream",
     "text": [
      "Fit model\n",
      "Train predciting\n"
     ]
    },
    {
     "name": "stderr",
     "output_type": "stream",
     "text": [
      " 24%|██▍       | 819/3345 [00:00<00:00, 4075.64it/s]"
     ]
    },
    {
     "name": "stdout",
     "output_type": "stream",
     "text": [
      "Test processing\n"
     ]
    },
    {
     "name": "stderr",
     "output_type": "stream",
     "text": [
      "100%|██████████| 3345/3345 [00:00<00:00, 4101.41it/s]\n"
     ]
    },
    {
     "name": "stdout",
     "output_type": "stream",
     "text": [
      "Test predciting\n",
      "Ready!!!\n"
     ]
    }
   ],
   "source": [
    "violla_mn1_sfdef_train_pred, violla_mn1_sfdef_test_pred, _ = train_predict(\n",
    "    sklearn_alg=pipe,\n",
    "    train_df=train_df[~train_df.violla_mn1_sfdef_pathes.isna()].reset_index(drop=True),\n",
    "    val_df=test_df[~test_df.violla_mn1_sfdef_pathes.isna()].reset_index(drop=True),\n",
    "    path_col='violla_mn1_sfdef_pathes',\n",
    "    target_col='label_id'\n",
    ")"
   ]
  },
  {
   "cell_type": "code",
   "execution_count": 24,
   "metadata": {},
   "outputs": [],
   "source": [
    "test_df.loc[~test_df.violla_mn1_sfdef_pathes.isna(), 'violla_mn1_sfdef_pred'] = violla_mn1_sfdef_test_pred\n",
    "test_df['violla_mn1_sfdef_pred'] = test_df['violla_mn1_sfdef_pred'].astype(int)\n",
    "\n",
    "train_df.loc[~train_df.violla_mn1_sfdef_pathes.isna(), 'violla_mn1_sfdef_pred'] = violla_mn1_sfdef_train_pred\n",
    "train_df['violla_mn1_sfdef_pred'] = train_df['violla_mn1_sfdef_pred'].astype(int)"
   ]
  },
  {
   "cell_type": "code",
   "execution_count": 25,
   "metadata": {},
   "outputs": [
    {
     "data": {
      "text/html": [
       "<div>\n",
       "<style scoped>\n",
       "    .dataframe tbody tr th:only-of-type {\n",
       "        vertical-align: middle;\n",
       "    }\n",
       "\n",
       "    .dataframe tbody tr th {\n",
       "        vertical-align: top;\n",
       "    }\n",
       "\n",
       "    .dataframe thead th {\n",
       "        text-align: right;\n",
       "    }\n",
       "</style>\n",
       "<table border=\"1\" class=\"dataframe\">\n",
       "  <thead>\n",
       "    <tr style=\"text-align: right;\">\n",
       "      <th></th>\n",
       "      <th>exp_name</th>\n",
       "      <th>overall_accuracy_val</th>\n",
       "      <th>joli_accuracy_val</th>\n",
       "      <th>overall_accuracy_train</th>\n",
       "      <th>joli_accuracy_train</th>\n",
       "    </tr>\n",
       "  </thead>\n",
       "  <tbody>\n",
       "    <tr>\n",
       "      <th>0</th>\n",
       "      <td>hog_svm</td>\n",
       "      <td>0.518092</td>\n",
       "      <td>0.380342</td>\n",
       "      <td>0.724624</td>\n",
       "      <td>0.565934</td>\n",
       "    </tr>\n",
       "    <tr>\n",
       "      <th>1</th>\n",
       "      <td>violla_default_baseline</td>\n",
       "      <td>0.521656</td>\n",
       "      <td>0.329060</td>\n",
       "      <td>0.679394</td>\n",
       "      <td>0.496337</td>\n",
       "    </tr>\n",
       "    <tr>\n",
       "      <th>2</th>\n",
       "      <td>violla_mn1_sfdef_baseline</td>\n",
       "      <td>0.534539</td>\n",
       "      <td>0.316239</td>\n",
       "      <td>0.710409</td>\n",
       "      <td>0.512821</td>\n",
       "    </tr>\n",
       "  </tbody>\n",
       "</table>\n",
       "</div>"
      ],
      "text/plain": [
       "                    exp_name  overall_accuracy_val  joli_accuracy_val  \\\n",
       "0                    hog_svm              0.518092           0.380342   \n",
       "1    violla_default_baseline              0.521656           0.329060   \n",
       "2  violla_mn1_sfdef_baseline              0.534539           0.316239   \n",
       "\n",
       "   overall_accuracy_train  joli_accuracy_train  \n",
       "0                0.724624             0.565934  \n",
       "1                0.679394             0.496337  \n",
       "2                0.710409             0.512821  "
      ]
     },
     "execution_count": 25,
     "metadata": {},
     "output_type": "execute_result"
    }
   ],
   "source": [
    "result_df = result_df.append({\n",
    "    \"exp_name\":'violla_mn1_sfdef_baseline', \n",
    "    \"overall_accuracy_val\":accuracy_score(test_df.label_id, test_df.violla_mn1_sfdef_pred),\n",
    "    \"joli_accuracy_val\":accuracy_score(test_df[test_df.label_id == 0].label_id, test_df[test_df.label_id == 0].violla_mn1_sfdef_pred),\n",
    "    \"overall_accuracy_train\":accuracy_score(train_df.label_id, train_df.violla_mn1_sfdef_pred),\n",
    "    \"joli_accuracy_train\":accuracy_score(train_df[train_df.label_id == 0].label_id, train_df[train_df.label_id == 0].violla_mn1_sfdef_pred)\n",
    "}, ignore_index=True)\n",
    "\n",
    "result_df"
   ]
  },
  {
   "cell_type": "markdown",
   "metadata": {},
   "source": [
    "## Sort and Save"
   ]
  },
  {
   "cell_type": "code",
   "execution_count": 26,
   "metadata": {},
   "outputs": [
    {
     "data": {
      "text/html": [
       "<div>\n",
       "<style scoped>\n",
       "    .dataframe tbody tr th:only-of-type {\n",
       "        vertical-align: middle;\n",
       "    }\n",
       "\n",
       "    .dataframe tbody tr th {\n",
       "        vertical-align: top;\n",
       "    }\n",
       "\n",
       "    .dataframe thead th {\n",
       "        text-align: right;\n",
       "    }\n",
       "</style>\n",
       "<table border=\"1\" class=\"dataframe\">\n",
       "  <thead>\n",
       "    <tr style=\"text-align: right;\">\n",
       "      <th></th>\n",
       "      <th>exp_name</th>\n",
       "      <th>overall_accuracy_val</th>\n",
       "      <th>joli_accuracy_val</th>\n",
       "      <th>overall_accuracy_train</th>\n",
       "      <th>joli_accuracy_train</th>\n",
       "    </tr>\n",
       "  </thead>\n",
       "  <tbody>\n",
       "    <tr>\n",
       "      <th>2</th>\n",
       "      <td>violla_mn1_sfdef_baseline</td>\n",
       "      <td>0.534539</td>\n",
       "      <td>0.316239</td>\n",
       "      <td>0.710409</td>\n",
       "      <td>0.512821</td>\n",
       "    </tr>\n",
       "    <tr>\n",
       "      <th>1</th>\n",
       "      <td>violla_default_baseline</td>\n",
       "      <td>0.521656</td>\n",
       "      <td>0.329060</td>\n",
       "      <td>0.679394</td>\n",
       "      <td>0.496337</td>\n",
       "    </tr>\n",
       "    <tr>\n",
       "      <th>0</th>\n",
       "      <td>hog_svm</td>\n",
       "      <td>0.518092</td>\n",
       "      <td>0.380342</td>\n",
       "      <td>0.724624</td>\n",
       "      <td>0.565934</td>\n",
       "    </tr>\n",
       "  </tbody>\n",
       "</table>\n",
       "</div>"
      ],
      "text/plain": [
       "                    exp_name  overall_accuracy_val  joli_accuracy_val  \\\n",
       "2  violla_mn1_sfdef_baseline              0.534539           0.316239   \n",
       "1    violla_default_baseline              0.521656           0.329060   \n",
       "0                    hog_svm              0.518092           0.380342   \n",
       "\n",
       "   overall_accuracy_train  joli_accuracy_train  \n",
       "2                0.710409             0.512821  \n",
       "1                0.679394             0.496337  \n",
       "0                0.724624             0.565934  "
      ]
     },
     "execution_count": 26,
     "metadata": {},
     "output_type": "execute_result"
    }
   ],
   "source": [
    "result_df.sort_values('joli_accuracy_val')"
   ]
  },
  {
   "cell_type": "code",
   "execution_count": 28,
   "metadata": {},
   "outputs": [],
   "source": [
    "result_df.to_csv('data/svm_result_df.csv', index=False)"
   ]
  },
  {
   "cell_type": "code",
   "execution_count": null,
   "metadata": {},
   "outputs": [],
   "source": []
  }
 ],
 "metadata": {
  "kernelspec": {
   "display_name": "Python 3.7 venv",
   "language": "python",
   "name": "venv"
  },
  "language_info": {
   "codemirror_mode": {
    "name": "ipython",
    "version": 3
   },
   "file_extension": ".py",
   "mimetype": "text/x-python",
   "name": "python",
   "nbconvert_exporter": "python",
   "pygments_lexer": "ipython3",
   "version": "3.7.8"
  }
 },
 "nbformat": 4,
 "nbformat_minor": 4
}
